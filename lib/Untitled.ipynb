{
 "cells": [
  {
   "cell_type": "code",
   "execution_count": 2,
   "id": "3968e038-18d0-4226-8895-d95eaf60867e",
   "metadata": {},
   "outputs": [
    {
     "name": "stdout",
     "output_type": "stream",
     "text": [
      "Ticker            ^GSPC\n",
      "Date                   \n",
      "2010-01-04  1132.989990\n",
      "2010-01-05  1136.520020\n",
      "2010-01-06  1137.140015\n",
      "2010-01-07  1141.689941\n",
      "2010-01-08  1144.979980\n"
     ]
    },
    {
     "name": "stderr",
     "output_type": "stream",
     "text": [
      "/tmp/ipykernel_13379/1328731125.py:5: FutureWarning: YF.download() has changed argument auto_adjust default to True\n",
      "  data = yf.download(ticker, start=\"2010-01-01\", end=\"2025-08-01\", interval=\"1d\", progress=False)\n"
     ]
    }
   ],
   "source": [
    "import yfinance as yf\n",
    "import pandas as pd\n",
    "\n",
    "ticker = \"^GSPC\"\n",
    "data = yf.download(ticker, start=\"2010-01-01\", end=\"2025-08-01\", interval=\"1d\", progress=False)\n",
    "prices = data[\"Close\"].dropna()  # use Close because it's already adjusted\n",
    "print(prices.head())\n"
   ]
  },
  {
   "cell_type": "code",
   "execution_count": 3,
   "id": "d88fea79-e15c-4a12-b640-ed276a3af1a6",
   "metadata": {},
   "outputs": [
    {
     "name": "stdout",
     "output_type": "stream",
     "text": [
      "Ticker            ^GSPC\n",
      "Date                   \n",
      "2010-01-04  1132.989990\n",
      "2010-01-05  1136.520020\n",
      "2010-01-06  1137.140015\n",
      "2010-01-07  1141.689941\n",
      "2010-01-08  1144.979980\n",
      "...                 ...\n",
      "2025-07-25  6388.640137\n",
      "2025-07-28  6389.770020\n",
      "2025-07-29  6370.859863\n",
      "2025-07-30  6362.899902\n",
      "2025-07-31  6339.390137\n",
      "\n",
      "[3918 rows x 1 columns]\n"
     ]
    }
   ],
   "source": [
    "print(prices)sgesgsa\\sesfesefsdfsfdssasasdfasfafgs'elkf/lakf/samf/ksa"
   ]
  },
  {
   "cell_type": "code",
   "execution_count": 4,
   "id": "9f9b4b93-08d0-4876-baa7-a7d2643477e4",
   "metadata": {},
   "outputs": [
    {
     "name": "stdout",
     "output_type": "stream",
     "text": [
      "Estimated annual drift (mu): Ticker\n",
      "^GSPC    0.11078\n",
      "dtype: float64\n",
      "Estimated annual volatility (sigma): Ticker\n",
      "^GSPC    0.17502\n",
      "dtype: float64\n"
     ]
    }
   ],
   "source": [
    "import numpy as np\n",
    "\n",
    "logrets = np.log(prices / prices.shift(1)).dropna()\n",
    "dt = 1/252  # daily -> annual convention\n",
    "mu_hat = logrets.mean() / dt\n",
    "sigma_hat = logrets.std(ddof=1) / np.sqrt(dt)\n",
    "\n",
    "print(\"Estimated annual drift (mu):\", mu_hat)\n",
    "print(\"Estimated annual volatility (sigma):\", sigma_hat)"
   ]
  },
  {
   "cell_type": "code",
   "execution_count": null,
   "id": "ec35e0fc-673f-4ed5-b358-03764847cd12",
   "metadata": {},
   "outputs": [],
   "source": []
  }
 ],
 "metadata": {
  "kernelspec": {
   "display_name": "SDE_ARFF_GPU_finance_models",
   "language": "python",
   "name": "sde_arff_gpu_finance_models"
  },
  "language_info": {
   "codemirror_mode": {
    "name": "ipython",
    "version": 3
   },
   "file_extension": ".py",
   "mimetype": "text/x-python",
   "name": "python",
   "nbconvert_exporter": "python",
   "pygments_lexer": "ipython3",
   "version": "3.11.13"
  }
 },
 "nbformat": 4,
 "nbformat_minor": 5
}
