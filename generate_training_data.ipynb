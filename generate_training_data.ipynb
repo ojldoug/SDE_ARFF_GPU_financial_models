{
 "cells": [
  {
   "cell_type": "code",
   "execution_count": 17,
   "id": "4b29f5c4-4186-4f55-b1f5-3e9506317deb",
   "metadata": {},
   "outputs": [],
   "source": [
    "import dill\n",
    "import os\n",
    "import numpy as np\n",
    "import jax\n",
    "import jax.numpy as jnp\n",
    "\n",
    "# Load true funcitons\n",
    "ex_name = 'ex4-3D_spd'\n",
    "file_path = os.path.join(\"true_functions\", f\"{ex_name}.pkl\")\n",
    "\n",
    "with open(file_path, \"rb\") as f:\n",
    "    loaded_functions = dill.load(f)\n",
    "\n",
    "true_drift = loaded_functions[\"drift\"]\n",
    "true_diffusion = loaded_functions[\"diffusion\"]\n",
    "\n",
    "diff_type = \"symmetric\""
   ]
  },
  {
   "cell_type": "code",
   "execution_count": 18,
   "id": "260c19f8-1cdc-473f-9768-a83e06dcc9e9",
   "metadata": {},
   "outputs": [],
   "source": [
    "# training data parameters\n",
    "xlim = np.array([[-1, 1], [-1, 1], [-1, 1]])\n",
    "\n",
    "n_trajectories = 10000\n",
    "trajectory_time = 0.01\n",
    "step_size = 0.01\n",
    "grid_resolution = int(trajectory_time/step_size) + 1 # +1 to account for staring point\n"
   ]
  },
  {
   "cell_type": "code",
   "execution_count": 19,
   "id": "5be041b5-0efe-4911-87c4-78a7fb819911",
   "metadata": {},
   "outputs": [],
   "source": [
    "def simulate_euler_maruyama(key, drift_fn, diffusion_fn, x0, step_size, grid_resolution):\n",
    "    \"\"\"\n",
    "    Simulate trajectories using Euler-Maruyama.\n",
    "    - x0: (N, D) array of initial positions\n",
    "    - Returns: x: (N, D, T)\n",
    "    \"\"\"\n",
    "    n_trajectories, D = x0.shape\n",
    "    T = grid_resolution\n",
    "\n",
    "    # Generate dW: shape (T-1, N, D)\n",
    "    key, subkey = jax.random.split(key)\n",
    "    dW = jax.random.normal(subkey, shape=(T-1, n_trajectories, D)) * jnp.sqrt(step_size)\n",
    "\n",
    "    def euler_step(x_t, dW_t):\n",
    "        drift = drift_fn(x_t)                 # (N, D)\n",
    "        diffusion = diffusion_fn(x_t).reshape(x_t.shape[0], D, D)         # (N, D, D)\n",
    "        diffusion_term = jnp.einsum('nij,nj->ni', diffusion, dW_t)  # (N, D)\n",
    "        #diffusion_term = jnp.matmul(diffusion, dW_t[..., None]).squeeze(-1)\n",
    "        x_next = x_t + drift * step_size + diffusion_term\n",
    "        return x_next, x_next\n",
    "\n",
    "    # Run lax.scan\n",
    "    _, xs = jax.lax.scan(euler_step, x0, dW)\n",
    "    \n",
    "    # Add initial condition to beginning\n",
    "    x_full = jnp.concatenate([x0[:, :, None], xs.transpose(1, 2, 0)], axis=-1)  # (N, D, T)\n",
    "    return x_full"
   ]
  },
  {
   "cell_type": "code",
   "execution_count": 20,
   "id": "ce3afdb8-922b-4b10-9b91-6c36b26e4c24",
   "metadata": {},
   "outputs": [],
   "source": [
    "key = jax.random.PRNGKey(0)\n",
    "x0 = jax.random.uniform(key, shape=(n_trajectories, xlim.shape[0]), minval=xlim[:,0], maxval=xlim[:,1])\n",
    "\n",
    "x = simulate_euler_maruyama(key,\n",
    "                            drift_fn=true_drift,\n",
    "                            diffusion_fn=true_diffusion,\n",
    "                            x0=x0,\n",
    "                            step_size=step_size,\n",
    "                            grid_resolution=grid_resolution)\n"
   ]
  },
  {
   "cell_type": "code",
   "execution_count": 21,
   "id": "13dad462-f428-46ed-92ba-3a1d657f9ac5",
   "metadata": {},
   "outputs": [
    {
     "name": "stdout",
     "output_type": "stream",
     "text": [
      "[2.3624081e-05 6.1316387e-05 1.7342680e-04]\n",
      "[[ 0.02045836 -0.03502162 -0.02678421]\n",
      " [-0.03502162  0.06355898  0.02981971]\n",
      " [-0.02678421  0.02981971  0.12453806]]\n"
     ]
    }
   ],
   "source": [
    "x_data = x[:, :, :-1].reshape(-1, xlim.shape[0])\n",
    "y_data = x[:, :, 1:].reshape(-1, xlim.shape[0])\n",
    "\n",
    "\n",
    "f = y_data - (x_data + step_size * true_drift(x_data))\n",
    "print(jnp.mean((f ** 2), axis=0))\n",
    "print(true_diffusion(x_data[0,:]))"
   ]
  },
  {
   "cell_type": "code",
   "execution_count": 22,
   "id": "ea66364e-830b-4222-b6be-4b68bc7930b1",
   "metadata": {},
   "outputs": [],
   "source": [
    "\n",
    "np.savez(f\"training_data/{ex_name}_time{trajectory_time}_SS{step_size}_ntraj{n_trajectories}.npz\", diff_type=diff_type, step_size=step_size, trajectories=np.array(x))\n"
   ]
  },
  {
   "cell_type": "code",
   "execution_count": null,
   "id": "9baa432d-b0eb-438d-acd0-3aea70ffa965",
   "metadata": {},
   "outputs": [],
   "source": []
  },
  {
   "cell_type": "code",
   "execution_count": null,
   "id": "05a12cfe-3996-4ad0-b5f7-ae6abac81090",
   "metadata": {},
   "outputs": [],
   "source": []
  }
 ],
 "metadata": {
  "kernelspec": {
   "display_name": "Python 3 (ipykernel)",
   "language": "python",
   "name": "python3"
  },
  "language_info": {
   "codemirror_mode": {
    "name": "ipython",
    "version": 3
   },
   "file_extension": ".py",
   "mimetype": "text/x-python",
   "name": "python",
   "nbconvert_exporter": "python",
   "pygments_lexer": "ipython3",
   "version": "3.11.13"
  }
 },
 "nbformat": 4,
 "nbformat_minor": 5
}
